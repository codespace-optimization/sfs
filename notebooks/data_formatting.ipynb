{
 "cells": [
  {
   "cell_type": "code",
   "execution_count": 6,
   "metadata": {},
   "outputs": [],
   "source": [
    "import json\n",
    "\n",
    "# File path to the original JSON file\n",
    "input_file_path = '../data/original_problems/mbpp-py-hard50.jsonl'\n",
    "output_file_path = '../data/original_problems/mbpp-py-hard50.jsonl'\n",
    "keys_to_add = []\n"
   ]
  },
  {
   "cell_type": "code",
   "execution_count": 7,
   "metadata": {},
   "outputs": [
    {
     "name": "stdout",
     "output_type": "stream",
     "text": [
      "Data has been modified and saved to ../data/original_problems/mbpp-py1.jsonl.\n"
     ]
    }
   ],
   "source": [
    "import json\n",
    "from collections import OrderedDict\n",
    "\n",
    "# Read the JSONL file, modify each line, and write to a new JSONL file\n",
    "with open(input_file_path, 'r') as infile, open(output_file_path, 'w') as outfile:\n",
    "    for line in infile:\n",
    "        # Convert the line from JSON string to Python dictionary\n",
    "        entry = json.loads(line)\n",
    "        \n",
    "        # Create a new OrderedDict where 'task_id' is the first key\n",
    "        new_entry = OrderedDict()\n",
    "        new_entry['task_id'] = entry.pop('name')  # Set 'task_id' first\n",
    "\n",
    "        # Add the remaining items\n",
    "        for key, value in entry.items():\n",
    "            new_entry[key] = value\n",
    "        \n",
    "        # Convert the dictionary back to JSON string\n",
    "        json_line = json.dumps(new_entry)\n",
    "        \n",
    "        # Write the modified JSON string to the output file with a newline character\n",
    "        outfile.write(json_line + '\\n')\n",
    "\n",
    "print(f\"Data has been modified and saved to {output_file_path}.\")\n"
   ]
  },
  {
   "cell_type": "markdown",
   "metadata": {},
   "source": [
    "We modify the leetcode dataset by adding the key `entry_point` below"
   ]
  },
  {
   "cell_type": "code",
   "execution_count": 6,
   "metadata": {},
   "outputs": [
    {
     "name": "stdout",
     "output_type": "stream",
     "text": [
      "Data has been modified and saved to ../data/original_problems/leetcode-20240121-Jul-mod.jsonl.\n"
     ]
    }
   ],
   "source": [
    "import json\n",
    "\n",
    "# File path to the original JSON file\n",
    "input_file_path = '../data/original_problems/leetcode-20240121-Jul.jsonl'\n",
    "output_file_path = '../data/original_problems/leetcode-20240121-Jul-mod.jsonl'\n",
    "\n",
    "# Read the JSONL file, modify each line, and write to a new JSONL file\n",
    "with open(input_file_path, 'r') as infile, open(output_file_path, 'w') as outfile:\n",
    "    for line in infile:\n",
    "        # Convert the line from JSON string to Python dictionary\n",
    "        new_entry = json.loads(line)\n",
    "\n",
    "        # Add the remaining items\n",
    "        for key, value in new_entry.items():\n",
    "            new_entry[key] = value\n",
    "\n",
    "        # add key `entry_point` with value `class Solution()`\n",
    "        new_entry['entry_point'] = 'Solution'\n",
    "        \n",
    "        # Convert the dictionary back to JSON string\n",
    "        json_line = json.dumps(new_entry)\n",
    "        \n",
    "        # Write the modified JSON string to the output file with a newline character\n",
    "        outfile.write(json_line + '\\n')\n",
    "\n",
    "print(f\"Data has been modified and saved to {output_file_path}.\")"
   ]
  },
  {
   "cell_type": "markdown",
   "metadata": {},
   "source": [
    "## CodeContest\n",
    "\n",
    "We need to modify the CodeContest data by adding `check({entry_point})` at the end of the key \"test\""
   ]
  },
  {
   "cell_type": "code",
   "execution_count": 7,
   "metadata": {},
   "outputs": [
    {
     "name": "stdout",
     "output_type": "stream",
     "text": [
      "Data has been modified and saved to ../data/original_problems/codecontests.jsonl.\n"
     ]
    }
   ],
   "source": [
    "import json\n",
    "\n",
    "# File path to the original JSON file\n",
    "input_file_path = '../data/original_problems/CodeContests_zeroshot_for_code_generation.jsonl'\n",
    "output_file_path = '../data/original_problems/codecontests.jsonl'\n",
    "\n",
    "# Read the JSONL file, modify each line, and write to a new JSONL file\n",
    "with open(input_file_path, 'r') as infile, open(output_file_path, 'w') as outfile:\n",
    "    for line in infile:\n",
    "        # Convert the line from JSON string to Python dictionary\n",
    "        new_entry = json.loads(line)\n",
    "\n",
    "        # modify new_entry by adding `check({entry_point})` at the end of the key \"test\"\n",
    "        new_entry['test'] = new_entry['test'] + f\"\\ncheck({new_entry['entry_point']})\"\n",
    "        \n",
    "        # Convert the dictionary back to JSON string\n",
    "        json_line = json.dumps(new_entry)\n",
    "        \n",
    "        # Write the modified JSON string to the output file with a newline character\n",
    "        outfile.write(json_line + '\\n')\n",
    "\n",
    "print(f\"Data has been modified and saved to {output_file_path}.\")"
   ]
  },
  {
   "cell_type": "markdown",
   "metadata": {},
   "source": [
    "## HumanEval\n",
    "\n",
    "We need to modify the HumanEval data by adding `check({entry_point})` at the end of the key \"test\""
   ]
  },
  {
   "cell_type": "code",
   "execution_count": 11,
   "metadata": {},
   "outputs": [
    {
     "name": "stdout",
     "output_type": "stream",
     "text": [
      "Data has been modified and saved to ../data/original_problems/humaneval_164.jsonl.\n"
     ]
    }
   ],
   "source": [
    "import json\n",
    "\n",
    "# File path to the original JSON file\n",
    "input_file_path = '../data/original_problems/HumanEval_for_code_generation.jsonl'\n",
    "output_file_path = '../data/original_problems/humaneval_164.jsonl'\n",
    "\n",
    "# Read the JSONL file, modify each line, and write to a new JSONL file\n",
    "with open(input_file_path, 'r') as infile, open(output_file_path, 'w') as outfile:\n",
    "    for line in infile:\n",
    "        # Convert the line from JSON string to Python dictionary\n",
    "        new_entry = json.loads(line)\n",
    "\n",
    "        # modify new_entry by adding `check({entry_point})` at the end of the key \"test\"\n",
    "        new_entry['test'] = new_entry['test'] + f\"\\ncheck({new_entry['entry_point']})\"\n",
    "        \n",
    "        # Convert the dictionary back to JSON string\n",
    "        json_line = json.dumps(new_entry)\n",
    "        \n",
    "        # Write the modified JSON string to the output file with a newline character\n",
    "        outfile.write(json_line + '\\n')\n",
    "\n",
    "print(f\"Data has been modified and saved to {output_file_path}.\")"
   ]
  },
  {
   "cell_type": "markdown",
   "metadata": {},
   "source": [
    "We can create the ground truth dataset by parsing out the `assert` statements in `test` and putting them individually under `visible_tests`"
   ]
  },
  {
   "cell_type": "code",
   "execution_count": 12,
   "metadata": {},
   "outputs": [
    {
     "name": "stdout",
     "output_type": "stream",
     "text": [
      "Data has been modified and saved to ../data/original_problems/humaneval_164_groundtruth.jsonl.\n"
     ]
    }
   ],
   "source": [
    "import json\n",
    "import re\n",
    "\n",
    "# File path to the original JSON file\n",
    "input_file_path = '../data/original_problems/humaneval_164.jsonl'\n",
    "output_file_path = '../data/original_problems/humaneval_164_groundtruth.jsonl'\n",
    "\n",
    "# Read the JSONL file, modify each line, and write to a new JSONL file\n",
    "with open(input_file_path, 'r') as infile, open(output_file_path, 'w') as outfile:\n",
    "    for line in infile:\n",
    "        # Convert the line from JSON string to Python dictionary\n",
    "        new_entry = json.loads(line)\n",
    "\n",
    "        # modify new_entry by adding parsing out the assert statements in the key \"test\" and adding them as a list to \"visible tests\"\n",
    "\n",
    "        # split the test string by newline\n",
    "        tests = new_entry['test'].split('\\n')\n",
    "        visible_tests = []\n",
    "        for test in tests:\n",
    "            # recall that the assert statements are in the form `assert func() == expected_output`, but there can be any number of spaces between the start of the line and the `assert` keyword\n",
    "            # we can use a regex to match the start of the line, any number of spaces, and the `assert` keyword\n",
    "\n",
    "            # match the start of the line, any number of spaces, and the `assert` keyword\n",
    "            match = re.match(r'^\\s*assert', test)\n",
    "            if match:\n",
    "                # remove any leading or trailing whitespace\n",
    "                test = test.strip()\n",
    "                # replaced `candidate` with `entry_point`\n",
    "                test = test.replace('candidate', new_entry['entry_point'])\n",
    "                # add the test to the list of visible tests\n",
    "                visible_tests.append(test)\n",
    "\n",
    "        new_entry['visible_tests'] = visible_tests\n",
    "        \n",
    "        # Convert the dictionary back to JSON string\n",
    "        json_line = json.dumps(new_entry)\n",
    "        \n",
    "        # Write the modified JSON string to the output file with a newline character\n",
    "        outfile.write(json_line + '\\n')\n",
    "\n",
    "print(f\"Data has been modified and saved to {output_file_path}.\")"
   ]
  },
  {
   "cell_type": "markdown",
   "metadata": {},
   "source": [
    "## MBPP\n",
    "\n",
    "We need to create ground truth test dataset"
   ]
  },
  {
   "cell_type": "code",
   "execution_count": 1,
   "metadata": {},
   "outputs": [
    {
     "name": "stdout",
     "output_type": "stream",
     "text": [
      "Data has been modified and saved to ../data/original_problems/mbpp_groundtruth.jsonl.\n"
     ]
    }
   ],
   "source": [
    "import json\n",
    "import re\n",
    "\n",
    "# File path to the original JSON file\n",
    "input_file_path = '../data/original_problems/mbpp-py3.jsonl'\n",
    "output_file_path = '../data/original_problems/mbpp_groundtruth.jsonl'\n",
    "\n",
    "# Read the JSONL file, modify each line, and write to a new JSONL file\n",
    "with open(input_file_path, 'r') as infile, open(output_file_path, 'w') as outfile:\n",
    "    for line in infile:\n",
    "        # Convert the line from JSON string to Python dictionary\n",
    "        new_entry = json.loads(line)\n",
    "\n",
    "        # modify new_entry by adding parsing out the assert statements in the key \"test\" and adding them as a list to \"visible tests\"\n",
    "\n",
    "        # split the test string by newline\n",
    "        tests = new_entry['test'].split('\\n')\n",
    "        visible_tests = []\n",
    "        for test in tests:\n",
    "            # recall that the assert statements are in the form `assert func() == expected_output`, but there can be any number of spaces between the start of the line and the `assert` keyword\n",
    "            # we can use a regex to match the start of the line, any number of spaces, and the `assert` keyword\n",
    "\n",
    "            # match the start of the line, any number of spaces, and the `assert` keyword\n",
    "            match = re.match(r'^\\s*assert', test)\n",
    "            if match:\n",
    "                # remove any leading or trailing whitespace\n",
    "                test = test.strip()\n",
    "                # replaced `candidate` with `entry_point`\n",
    "                test = test.replace('candidate', new_entry['entry_point'])\n",
    "                # add the test to the list of visible tests\n",
    "                visible_tests.append(test)\n",
    "\n",
    "        new_entry['visible_tests'] = visible_tests\n",
    "        \n",
    "        # Convert the dictionary back to JSON string\n",
    "        json_line = json.dumps(new_entry)\n",
    "        \n",
    "        # Write the modified JSON string to the output file with a newline character\n",
    "        outfile.write(json_line + '\\n')\n",
    "\n",
    "print(f\"Data has been modified and saved to {output_file_path}.\")"
   ]
  },
  {
   "cell_type": "markdown",
   "metadata": {},
   "source": []
  },
  {
   "cell_type": "markdown",
   "metadata": {},
   "source": [
    "## APPS\n",
    "\n",
    "APPS is too large so we need to sample ~200 problems from it instead"
   ]
  },
  {
   "cell_type": "code",
   "execution_count": 2,
   "metadata": {},
   "outputs": [
    {
     "name": "stdout",
     "output_type": "stream",
     "text": [
      "Data has been modified and saved to ../data/original_problems/apps200.jsonl.\n"
     ]
    }
   ],
   "source": [
    "import json\n",
    "import random\n",
    "\n",
    "def sample_and_modify_jsonl(input_file_path, output_file_path, n):\n",
    "    # Read the JSONL file\n",
    "    with open(input_file_path, 'r') as input_file:\n",
    "        lines = input_file.readlines()\n",
    "\n",
    "    # Sample n lines\n",
    "    sampled_lines = random.sample(lines, n)\n",
    "\n",
    "    # Modify each line as needed\n",
    "    modified_lines = []\n",
    "    for line in sampled_lines:\n",
    "        data = json.loads(line)\n",
    "        # Perform any modifications to the data here\n",
    "        # modify data by adding `check({entry_point})` at the end of the key \"test\"\n",
    "        data['test'] = data['test'] + f\"\\ncheck({data['entry_point']})\"\n",
    "        modified_lines.append(json.dumps(data))\n",
    "\n",
    "    # Write the modified lines to a new JSONL file\n",
    "    with open(output_file_path, 'w') as output_file:\n",
    "        for modified_line in modified_lines:\n",
    "            output_file.write(modified_line + '\\n')\n",
    "\n",
    "    print(f\"Data has been modified and saved to {output_file_path}.\")\n",
    "\n",
    "# File path to the original JSON file\n",
    "input_file_path = '../data/old_original_problems/APPS_zeroshot_for_code_generation.jsonl'\n",
    "output_file_path = '../data/original_problems/apps200.jsonl'\n",
    "\n",
    "# Number of lines to sample\n",
    "n = 200\n",
    "\n",
    "# Sample and modify the JSONL file\n",
    "sample_and_modify_jsonl(input_file_path, output_file_path, n)"
   ]
  },
  {
   "cell_type": "markdown",
   "metadata": {},
   "source": [
    "We will also create a competition level APPS dataset by sampling ~200 problems from it"
   ]
  },
  {
   "cell_type": "code",
   "execution_count": 1,
   "metadata": {},
   "outputs": [
    {
     "ename": "FileNotFoundError",
     "evalue": "[Errno 2] No such file or directory: '../data/old_original_problems/APPS_zeroshot_for_code_generation.jsonl'",
     "output_type": "error",
     "traceback": [
      "\u001b[0;31m---------------------------------------------------------------------------\u001b[0m",
      "\u001b[0;31mFileNotFoundError\u001b[0m                         Traceback (most recent call last)",
      "Cell \u001b[0;32mIn[1], line 38\u001b[0m\n\u001b[1;32m     35\u001b[0m n \u001b[38;5;241m=\u001b[39m \u001b[38;5;241m200\u001b[39m\n\u001b[1;32m     37\u001b[0m \u001b[38;5;66;03m# Sample and modify the JSONL file\u001b[39;00m\n\u001b[0;32m---> 38\u001b[0m \u001b[43msample_and_modify_jsonl\u001b[49m\u001b[43m(\u001b[49m\u001b[43minput_file_path\u001b[49m\u001b[43m,\u001b[49m\u001b[43m \u001b[49m\u001b[43moutput_file_path\u001b[49m\u001b[43m,\u001b[49m\u001b[43m \u001b[49m\u001b[43mn\u001b[49m\u001b[43m,\u001b[49m\u001b[43m \u001b[49m\u001b[43mseed\u001b[49m\u001b[38;5;241;43m=\u001b[39;49m\u001b[38;5;241;43m42\u001b[39;49m\u001b[43m)\u001b[49m\n",
      "Cell \u001b[0;32mIn[1], line 6\u001b[0m, in \u001b[0;36msample_and_modify_jsonl\u001b[0;34m(input_file_path, output_file_path, n, seed)\u001b[0m\n\u001b[1;32m      4\u001b[0m \u001b[38;5;28;01mdef\u001b[39;00m \u001b[38;5;21msample_and_modify_jsonl\u001b[39m(input_file_path, output_file_path, n: \u001b[38;5;28mint\u001b[39m, seed: \u001b[38;5;28mint\u001b[39m \u001b[38;5;241m=\u001b[39m \u001b[38;5;241m42\u001b[39m):\n\u001b[1;32m      5\u001b[0m     \u001b[38;5;66;03m# Read the JSONL file\u001b[39;00m\n\u001b[0;32m----> 6\u001b[0m     \u001b[38;5;28;01mwith\u001b[39;00m \u001b[38;5;28;43mopen\u001b[39;49m\u001b[43m(\u001b[49m\u001b[43minput_file_path\u001b[49m\u001b[43m,\u001b[49m\u001b[43m \u001b[49m\u001b[38;5;124;43m'\u001b[39;49m\u001b[38;5;124;43mr\u001b[39;49m\u001b[38;5;124;43m'\u001b[39;49m\u001b[43m)\u001b[49m \u001b[38;5;28;01mas\u001b[39;00m input_file:\n\u001b[1;32m      7\u001b[0m         lines \u001b[38;5;241m=\u001b[39m input_file\u001b[38;5;241m.\u001b[39mreadlines()\n\u001b[1;32m      9\u001b[0m     \u001b[38;5;66;03m# Modify each line as needed\u001b[39;00m\n",
      "File \u001b[0;32m~/miniconda3/envs/llmcoding/lib/python3.12/site-packages/IPython/core/interactiveshell.py:324\u001b[0m, in \u001b[0;36m_modified_open\u001b[0;34m(file, *args, **kwargs)\u001b[0m\n\u001b[1;32m    317\u001b[0m \u001b[38;5;28;01mif\u001b[39;00m file \u001b[38;5;129;01min\u001b[39;00m {\u001b[38;5;241m0\u001b[39m, \u001b[38;5;241m1\u001b[39m, \u001b[38;5;241m2\u001b[39m}:\n\u001b[1;32m    318\u001b[0m     \u001b[38;5;28;01mraise\u001b[39;00m \u001b[38;5;167;01mValueError\u001b[39;00m(\n\u001b[1;32m    319\u001b[0m         \u001b[38;5;124mf\u001b[39m\u001b[38;5;124m\"\u001b[39m\u001b[38;5;124mIPython won\u001b[39m\u001b[38;5;124m'\u001b[39m\u001b[38;5;124mt let you open fd=\u001b[39m\u001b[38;5;132;01m{\u001b[39;00mfile\u001b[38;5;132;01m}\u001b[39;00m\u001b[38;5;124m by default \u001b[39m\u001b[38;5;124m\"\u001b[39m\n\u001b[1;32m    320\u001b[0m         \u001b[38;5;124m\"\u001b[39m\u001b[38;5;124mas it is likely to crash IPython. If you know what you are doing, \u001b[39m\u001b[38;5;124m\"\u001b[39m\n\u001b[1;32m    321\u001b[0m         \u001b[38;5;124m\"\u001b[39m\u001b[38;5;124myou can use builtins\u001b[39m\u001b[38;5;124m'\u001b[39m\u001b[38;5;124m open.\u001b[39m\u001b[38;5;124m\"\u001b[39m\n\u001b[1;32m    322\u001b[0m     )\n\u001b[0;32m--> 324\u001b[0m \u001b[38;5;28;01mreturn\u001b[39;00m \u001b[43mio_open\u001b[49m\u001b[43m(\u001b[49m\u001b[43mfile\u001b[49m\u001b[43m,\u001b[49m\u001b[43m \u001b[49m\u001b[38;5;241;43m*\u001b[39;49m\u001b[43margs\u001b[49m\u001b[43m,\u001b[49m\u001b[43m \u001b[49m\u001b[38;5;241;43m*\u001b[39;49m\u001b[38;5;241;43m*\u001b[39;49m\u001b[43mkwargs\u001b[49m\u001b[43m)\u001b[49m\n",
      "\u001b[0;31mFileNotFoundError\u001b[0m: [Errno 2] No such file or directory: '../data/old_original_problems/APPS_zeroshot_for_code_generation.jsonl'"
     ]
    }
   ],
   "source": [
    "import json\n",
    "import random\n",
    "\n",
    "def sample_and_modify_jsonl(input_file_path, output_file_path, n: int, seed: int = 42):\n",
    "    # Read the JSONL file\n",
    "    with open(input_file_path, 'r') as input_file:\n",
    "        lines = input_file.readlines()\n",
    "\n",
    "    # Modify each line as needed\n",
    "    modified_lines = []\n",
    "    for line in lines:\n",
    "        data = json.loads(line)\n",
    "        if data[\"difficulty\"] == \"competition\":\n",
    "            # Perform any modifications to the data here\n",
    "            # modify data by adding `check({entry_point})` at the end of the key \"test\"\n",
    "            data['test'] = data['test'] + f\"\\ncheck({data['entry_point']})\"\n",
    "            modified_lines.append(json.dumps(data))\n",
    "\n",
    "    # sample n lines\n",
    "    random.seed(seed)\n",
    "    sampled_lines = random.sample(modified_lines, n)\n",
    "\n",
    "    # Write the modified lines to a new JSONL file\n",
    "    with open(output_file_path, 'w') as output_file:\n",
    "        for line in sampled_lines:\n",
    "            output_file.write(line + '\\n')\n",
    "\n",
    "    print(f\"Data has been modified and saved to {output_file_path}.\")\n",
    "\n",
    "# File path to the original JSON file\n",
    "input_file_path = '../data/old_original_problems/APPS_zeroshot_for_code_generation.jsonl'\n",
    "output_file_path = '../data/original_problems/apps200_competition.jsonl'\n",
    "\n",
    "# Number of lines to sample\n",
    "n = 200\n",
    "\n",
    "# Sample and modify the JSONL file\n",
    "sample_and_modify_jsonl(input_file_path, output_file_path, n, seed=42)"
   ]
  },
  {
   "cell_type": "markdown",
   "metadata": {},
   "source": []
  }
 ],
 "metadata": {
  "kernelspec": {
   "display_name": "llmcoding",
   "language": "python",
   "name": "python3"
  },
  "language_info": {
   "codemirror_mode": {
    "name": "ipython",
    "version": 3
   },
   "file_extension": ".py",
   "mimetype": "text/x-python",
   "name": "python",
   "nbconvert_exporter": "python",
   "pygments_lexer": "ipython3",
   "version": "3.12.3"
  }
 },
 "nbformat": 4,
 "nbformat_minor": 2
}
